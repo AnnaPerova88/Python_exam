{
  "cells": [
    {
      "cell_type": "markdown",
      "metadata": {
        "id": "uwzspnXLEaef"
      },
      "source": [
        "### Задание 1 (4 балла)\n",
        "### Обратный порядок слов в блоках текста\n",
        "\n",
        "#### Дан текстовый файл, каждое предложение которого занимает одну строку. Напишите программу, которая разделяет текст на блоки — каждый блок состоит из нескольких предложений. Затем переворачивает порядок слов только внутри каждого предложения, не меняя порядок самих предложений в блоке.\n",
        "\n",
        "Файл содержит:\n",
        "\n",
        "    Привет как дела\n",
        "    На улице идет дождь\n",
        "    Я люблю программирование\n",
        "\n",
        "Критерии оценки:\n",
        "\n",
        "    Текст разделен на блоки корректно — 2 балла.\n",
        "    Корректно перевернуты блоки — 2 балла.\n"
      ]
    },
    {
      "cell_type": "markdown",
      "metadata": {
        "id": "2ugSgOgoEaej"
      },
      "source": [
        "Создаем файл формата .txt, содержащий строки, указанные в здании\n",
        "\n",
        "![image.png](attachment:image.png)"
      ]
    },
    {
      "cell_type": "code",
      "source": [
        "from google.colab import files"
      ],
      "metadata": {
        "id": "uTIlc7HGFonM"
      },
      "execution_count": 4,
      "outputs": []
    },
    {
      "cell_type": "code",
      "source": [
        "uploaded = files.upload()"
      ],
      "metadata": {
        "colab": {
          "base_uri": "https://localhost:8080/",
          "height": 73
        },
        "id": "Div7cx3dFp2z",
        "outputId": "4f6c6d5b-490f-4159-a5fc-af9726d25580"
      },
      "execution_count": 5,
      "outputs": [
        {
          "output_type": "display_data",
          "data": {
            "text/plain": [
              "<IPython.core.display.HTML object>"
            ],
            "text/html": [
              "\n",
              "     <input type=\"file\" id=\"files-6a221488-e7d6-41e4-9aed-d9816ba8208c\" name=\"files[]\" multiple disabled\n",
              "        style=\"border:none\" />\n",
              "     <output id=\"result-6a221488-e7d6-41e4-9aed-d9816ba8208c\">\n",
              "      Upload widget is only available when the cell has been executed in the\n",
              "      current browser session. Please rerun this cell to enable.\n",
              "      </output>\n",
              "      <script>// Copyright 2017 Google LLC\n",
              "//\n",
              "// Licensed under the Apache License, Version 2.0 (the \"License\");\n",
              "// you may not use this file except in compliance with the License.\n",
              "// You may obtain a copy of the License at\n",
              "//\n",
              "//      http://www.apache.org/licenses/LICENSE-2.0\n",
              "//\n",
              "// Unless required by applicable law or agreed to in writing, software\n",
              "// distributed under the License is distributed on an \"AS IS\" BASIS,\n",
              "// WITHOUT WARRANTIES OR CONDITIONS OF ANY KIND, either express or implied.\n",
              "// See the License for the specific language governing permissions and\n",
              "// limitations under the License.\n",
              "\n",
              "/**\n",
              " * @fileoverview Helpers for google.colab Python module.\n",
              " */\n",
              "(function(scope) {\n",
              "function span(text, styleAttributes = {}) {\n",
              "  const element = document.createElement('span');\n",
              "  element.textContent = text;\n",
              "  for (const key of Object.keys(styleAttributes)) {\n",
              "    element.style[key] = styleAttributes[key];\n",
              "  }\n",
              "  return element;\n",
              "}\n",
              "\n",
              "// Max number of bytes which will be uploaded at a time.\n",
              "const MAX_PAYLOAD_SIZE = 100 * 1024;\n",
              "\n",
              "function _uploadFiles(inputId, outputId) {\n",
              "  const steps = uploadFilesStep(inputId, outputId);\n",
              "  const outputElement = document.getElementById(outputId);\n",
              "  // Cache steps on the outputElement to make it available for the next call\n",
              "  // to uploadFilesContinue from Python.\n",
              "  outputElement.steps = steps;\n",
              "\n",
              "  return _uploadFilesContinue(outputId);\n",
              "}\n",
              "\n",
              "// This is roughly an async generator (not supported in the browser yet),\n",
              "// where there are multiple asynchronous steps and the Python side is going\n",
              "// to poll for completion of each step.\n",
              "// This uses a Promise to block the python side on completion of each step,\n",
              "// then passes the result of the previous step as the input to the next step.\n",
              "function _uploadFilesContinue(outputId) {\n",
              "  const outputElement = document.getElementById(outputId);\n",
              "  const steps = outputElement.steps;\n",
              "\n",
              "  const next = steps.next(outputElement.lastPromiseValue);\n",
              "  return Promise.resolve(next.value.promise).then((value) => {\n",
              "    // Cache the last promise value to make it available to the next\n",
              "    // step of the generator.\n",
              "    outputElement.lastPromiseValue = value;\n",
              "    return next.value.response;\n",
              "  });\n",
              "}\n",
              "\n",
              "/**\n",
              " * Generator function which is called between each async step of the upload\n",
              " * process.\n",
              " * @param {string} inputId Element ID of the input file picker element.\n",
              " * @param {string} outputId Element ID of the output display.\n",
              " * @return {!Iterable<!Object>} Iterable of next steps.\n",
              " */\n",
              "function* uploadFilesStep(inputId, outputId) {\n",
              "  const inputElement = document.getElementById(inputId);\n",
              "  inputElement.disabled = false;\n",
              "\n",
              "  const outputElement = document.getElementById(outputId);\n",
              "  outputElement.innerHTML = '';\n",
              "\n",
              "  const pickedPromise = new Promise((resolve) => {\n",
              "    inputElement.addEventListener('change', (e) => {\n",
              "      resolve(e.target.files);\n",
              "    });\n",
              "  });\n",
              "\n",
              "  const cancel = document.createElement('button');\n",
              "  inputElement.parentElement.appendChild(cancel);\n",
              "  cancel.textContent = 'Cancel upload';\n",
              "  const cancelPromise = new Promise((resolve) => {\n",
              "    cancel.onclick = () => {\n",
              "      resolve(null);\n",
              "    };\n",
              "  });\n",
              "\n",
              "  // Wait for the user to pick the files.\n",
              "  const files = yield {\n",
              "    promise: Promise.race([pickedPromise, cancelPromise]),\n",
              "    response: {\n",
              "      action: 'starting',\n",
              "    }\n",
              "  };\n",
              "\n",
              "  cancel.remove();\n",
              "\n",
              "  // Disable the input element since further picks are not allowed.\n",
              "  inputElement.disabled = true;\n",
              "\n",
              "  if (!files) {\n",
              "    return {\n",
              "      response: {\n",
              "        action: 'complete',\n",
              "      }\n",
              "    };\n",
              "  }\n",
              "\n",
              "  for (const file of files) {\n",
              "    const li = document.createElement('li');\n",
              "    li.append(span(file.name, {fontWeight: 'bold'}));\n",
              "    li.append(span(\n",
              "        `(${file.type || 'n/a'}) - ${file.size} bytes, ` +\n",
              "        `last modified: ${\n",
              "            file.lastModifiedDate ? file.lastModifiedDate.toLocaleDateString() :\n",
              "                                    'n/a'} - `));\n",
              "    const percent = span('0% done');\n",
              "    li.appendChild(percent);\n",
              "\n",
              "    outputElement.appendChild(li);\n",
              "\n",
              "    const fileDataPromise = new Promise((resolve) => {\n",
              "      const reader = new FileReader();\n",
              "      reader.onload = (e) => {\n",
              "        resolve(e.target.result);\n",
              "      };\n",
              "      reader.readAsArrayBuffer(file);\n",
              "    });\n",
              "    // Wait for the data to be ready.\n",
              "    let fileData = yield {\n",
              "      promise: fileDataPromise,\n",
              "      response: {\n",
              "        action: 'continue',\n",
              "      }\n",
              "    };\n",
              "\n",
              "    // Use a chunked sending to avoid message size limits. See b/62115660.\n",
              "    let position = 0;\n",
              "    do {\n",
              "      const length = Math.min(fileData.byteLength - position, MAX_PAYLOAD_SIZE);\n",
              "      const chunk = new Uint8Array(fileData, position, length);\n",
              "      position += length;\n",
              "\n",
              "      const base64 = btoa(String.fromCharCode.apply(null, chunk));\n",
              "      yield {\n",
              "        response: {\n",
              "          action: 'append',\n",
              "          file: file.name,\n",
              "          data: base64,\n",
              "        },\n",
              "      };\n",
              "\n",
              "      let percentDone = fileData.byteLength === 0 ?\n",
              "          100 :\n",
              "          Math.round((position / fileData.byteLength) * 100);\n",
              "      percent.textContent = `${percentDone}% done`;\n",
              "\n",
              "    } while (position < fileData.byteLength);\n",
              "  }\n",
              "\n",
              "  // All done.\n",
              "  yield {\n",
              "    response: {\n",
              "      action: 'complete',\n",
              "    }\n",
              "  };\n",
              "}\n",
              "\n",
              "scope.google = scope.google || {};\n",
              "scope.google.colab = scope.google.colab || {};\n",
              "scope.google.colab._files = {\n",
              "  _uploadFiles,\n",
              "  _uploadFilesContinue,\n",
              "};\n",
              "})(self);\n",
              "</script> "
            ]
          },
          "metadata": {}
        },
        {
          "output_type": "stream",
          "name": "stdout",
          "text": [
            "Saving 1.txt to 1.txt\n"
          ]
        }
      ]
    },
    {
      "cell_type": "code",
      "source": [
        "import os\n",
        "\n",
        "# Выведите список файлов в текущей директории\n",
        "print(os.listdir())"
      ],
      "metadata": {
        "colab": {
          "base_uri": "https://localhost:8080/"
        },
        "id": "CIlh1vevFzqK",
        "outputId": "43119dea-1fb1-4e37-d270-13846726eca9"
      },
      "execution_count": 6,
      "outputs": [
        {
          "output_type": "stream",
          "name": "stdout",
          "text": [
            "['.config', '1.txt', 'sample_data']\n"
          ]
        }
      ]
    },
    {
      "cell_type": "code",
      "source": [
        "import os\n",
        "print(os.getcwd())"
      ],
      "metadata": {
        "colab": {
          "base_uri": "https://localhost:8080/"
        },
        "id": "HQaGVfnrGAnI",
        "outputId": "72bb86e6-5016-47b7-8ba0-a5aca489dffe"
      },
      "execution_count": 7,
      "outputs": [
        {
          "output_type": "stream",
          "name": "stdout",
          "text": [
            "/content\n"
          ]
        }
      ]
    },
    {
      "cell_type": "code",
      "execution_count": 8,
      "metadata": {
        "colab": {
          "base_uri": "https://localhost:8080/"
        },
        "id": "W_dr-tq6Eaek",
        "outputId": "ff784857-3d41-40fe-9fda-8304d141991b"
      },
      "outputs": [
        {
          "output_type": "stream",
          "name": "stdout",
          "text": [
            "-----------------Проверка корректноти деления на блоки--------------------------\n",
            "блок № 1, содержание блока: ['Привет как дела\\n', 'На улице идет дождь\\n'], длинна блока: 2\n",
            "блок № 2, содержание блока: ['Я люблю программирование'], длинна блока: 1\n",
            "-----------------Выввод предложений в обратном порядке--------------------------\n",
            "дела как Привет\n",
            "дождь идет улице На\n",
            "программирование люблю Я\n"
          ]
        }
      ],
      "source": [
        "# Код решения задачи № 1\n",
        "\n",
        "# Переменная, содеражщая путь к файлу\n",
        "file_path = '/content/1.txt'\n",
        "\n",
        "# Код для чтения содержания файла построчно, с учетом кодировки utf-8\n",
        "with open(file_path, \"r\", encoding=\"utf-8\") as file:\n",
        "    file_lines = file.readlines()\n",
        "\n",
        "# проверяем корректность чтения строк.\n",
        "# Строки считаны в виде списка, элементами которого явлюятся отдельне предложения, включая символ переноса строки \\n\n",
        "\n",
        "# Делим предложения на блоки, по 2 предложения в блоке. В качестве блока будет использована структура данных - список.\n",
        "\n",
        "blocks_count = 2\n",
        "blocks = [file_lines[i:i+2] for i in range(0, len(file_lines), blocks_count)]\n",
        "\n",
        "# проверяем корректность деления предложений на блоки\n",
        "print(f'-----------------Проверка корректноти деления на блоки--------------------------')\n",
        "for block_num, block in enumerate(blocks):\n",
        "\tprint(f'блок № {block_num+1}, содержание блока: {block}, длинна блока: {len(block)}')\n",
        "\n",
        "# проверяем корректность обратного порядка слов в предложении\n",
        "print(f'-----------------Выввод предложений в обратном порядке--------------------------')\n",
        "for block_num, block in enumerate(blocks):\n",
        "\tfor sentense in block:\n",
        "            split_sentense = sentense.split()\n",
        "            split_sentense = split_sentense[::-1]\n",
        "            split_sentense = \" \".join(split_sentense)\n",
        "            print(split_sentense)\n",
        ""
      ]
    },
    {
      "cell_type": "markdown",
      "metadata": {
        "id": "_vUeEZMNEaeo"
      },
      "source": [
        "### Задание 2 (2 балла)\n",
        "\n",
        "#### Напишите функцию, которая принимает строку и сжимает её определённым образом. Строки содержат произвольные символы, включая пробелы и спецсимволы, и требуют точного учета длины при кодировании. Сжатие строки происходит сериями одинаковых символов в формате символколичество, но только если длина сжатой строки не превышает исходную.\n",
        "\n",
        "Примеры:\n",
        "\n",
        "    вход: aaabbc → вывод: a3b2c,\n",
        "    вход: abcd → вывод: abcd (так как сжатая равна).\n",
        "\n",
        "Критерии оценки:\n",
        "\n",
        "    Корректно очищен текст — 1 балл.\n",
        "    Выполняется условие — 1 балл.\n"
      ]
    },
    {
      "cell_type": "code",
      "execution_count": 9,
      "metadata": {
        "colab": {
          "base_uri": "https://localhost:8080/"
        },
        "id": "WTV6__mtEaep",
        "outputId": "32f1db30-e08f-474a-b6eb-0a5b23c2f4be"
      },
      "outputs": [
        {
          "output_type": "stream",
          "name": "stdout",
          "text": [
            "a2b4c2\n",
            "abc\n",
            "aabbcc\n",
            "a\n",
            "\n"
          ]
        }
      ],
      "source": [
        "def compress_string(s):\n",
        "\tif not s:\n",
        "\t\treturn s  # Возвращаем пустую строку, если входная строка пуста\n",
        "\n",
        "\ts_split = list(s)\n",
        "\n",
        "\tcompressed = []\n",
        "\tcount = 1\n",
        "\n",
        "    # Проходим по строке и подсчитываем повторы символов\n",
        "\tfor i in range(1, len(s)):\n",
        "\t\tif s[i] == s[i - 1]:\n",
        "\t\t\tcount += 1\n",
        "\t\telse:\n",
        "\t\t\tcompressed.append(f\"{s[i - 1]}{count}\")\n",
        "\t\t\tcount = 1\n",
        "\n",
        "    # Добавляем последнюю серию\n",
        "\tcompressed.append(f\"{s[-1]}{count}\")\n",
        "\n",
        "    # Преобразуем сжатую строку в итоговый формат\n",
        "\tcompressed_string = ''.join(compressed)\n",
        "\n",
        "    # Возвращаем сжатую строку только если она короче или равна исходной\n",
        "\treturn compressed_string if len(compressed_string) < len(s) else s\n",
        "\n",
        "\n",
        "#!  @  #  $  %  ^  &  *  (  )  -  _  =  +  [  ]  {  }  |  \\\n",
        "#:  ;  \"  '  <  >  ,  .  ?  /  ~  `\n",
        "\n",
        "\n",
        "# Примеры использования\n",
        "# Вывод: \"a3b2c4\"\n",
        "\n",
        "print(compress_string(\"aabbbbcc\"))\n",
        "print(compress_string(\"abc\"))       # Вывод: \"abc\" (сжатая строка длиннее исходной)\n",
        "print(compress_string(\"aabbcc\"))    # Вывод: \"aabbcc\" (длина одинаковая)\n",
        "print(compress_string(\"a\"))         # Вывод: \"a\" (одиночный символ)\n",
        "print(compress_string(\"\"))          # Вывод: \"\" (пустая строка)\n",
        "\n",
        "\n"
      ]
    },
    {
      "cell_type": "markdown",
      "metadata": {
        "id": "6R9veGh-Eaeq"
      },
      "source": [
        "### Задание 3 (4 балла) Хаотичные скобки\n",
        "#### Реализуйте функцию, которая проверяет, правильно ли расставлены скобки в строке (включая круглые, квадратные и фигурные скобки).\n",
        "\n",
        "Критерии оценки:\n",
        "\n",
        "Функция выполняет условие — 4 балла."
      ]
    },
    {
      "cell_type": "code",
      "execution_count": 10,
      "metadata": {
        "colab": {
          "base_uri": "https://localhost:8080/"
        },
        "id": "U-Nh01OuEaeq",
        "outputId": "d1ecb87c-ba0e-4995-9191-74b97842f4ce"
      },
      "outputs": [
        {
          "output_type": "stream",
          "name": "stdout",
          "text": [
            "True\n",
            "False\n",
            "True\n",
            "True\n",
            "False\n"
          ]
        }
      ],
      "source": [
        "def string_check_brackets(string):\n",
        "    # Словарь для соответствия открывающих и закрывающих скобок\n",
        "    matching_brackets = {')': '(', '}': '{', ']': '['}\n",
        "    open_brackets_list = '({['\n",
        "    close_brackets_list = ')}]'\n",
        "\n",
        "    # Список для отслеживания скобок\n",
        "    list_brackets = []\n",
        "\n",
        "    for char in string:\n",
        "        # Добавляем открытую скобку в список для отслеживания скобок\n",
        "        if char in open_brackets_list:\n",
        "            list_brackets.append(char)\n",
        "\n",
        "        # При обнаржуении закрытой скобки проверяется имеется ли для нее пара в виде открытой скобки\n",
        "        # если на моент проверки списко для проверки пуст или отсутсувует соответсвующа открытая скобка, то функция завершает работу, возвращая значение false\n",
        "        elif char in close_brackets_list:\n",
        "            if not list_brackets or list_brackets[-1] != matching_brackets[char]:\n",
        "\n",
        "                return False\n",
        "            # Если закрытой скобке находится открытая скобка, то она (откратая скобка) удаляется из списка\n",
        "            list_brackets.pop()\n",
        "\n",
        "    # Если после окончания цикла в списке остались элементы, значит последовательность из скобок не корректна, так как не для каждой скобки нашлась пара.\n",
        "    return not list_brackets\n",
        "\n",
        "# Проверка корретности работы функции, в том числе и использованием текста в строке\n",
        "\n",
        "print(string_check_brackets(\"(){}[]\"))\n",
        "print(string_check_brackets(\"({[}])\"))\n",
        "print(string_check_brackets(\"{[(корректный пример)]}\"))\n",
        "print(string_check_brackets(\"(корректный(()пример))последовательности\"))\n",
        "print(string_check_brackets(\"(не корретная() последовательность\"))\n",
        "\n"
      ]
    },
    {
      "cell_type": "markdown",
      "metadata": {
        "id": "t1uJi0ByEaer"
      },
      "source": [
        "### Задание 4 (4 балла)\n",
        "#### Генератор случайных паролей\n",
        "Напишите функцию, которая генерирует пароль заданной длины. В реализации надо учитывать, что:\n",
        "\n",
        "Пароль должен содержать буквы, цифры и специальные символы.\n",
        "\n",
        "Длина пароля задается пользователем.\n",
        "Критерии оценки:"
      ]
    },
    {
      "cell_type": "code",
      "execution_count": 13,
      "metadata": {
        "colab": {
          "base_uri": "https://localhost:8080/"
        },
        "id": "pdKNH38TEaer",
        "outputId": "3835eba4-d4b5-4194-dc46-dff564e07975"
      },
      "outputs": [
        {
          "output_type": "stream",
          "name": "stdout",
          "text": [
            "Введите длину пароля: 7\n",
            "Ваш пароль: Fysx>>1, длина пароля: 7\n"
          ]
        }
      ],
      "source": [
        "import string\n",
        "import random\n",
        "\n",
        "def generate_password(length):\n",
        "    # Поскольку пароль должен содержать хотя бы одну букву, цифру или специальный символ, то его длинна не может быть меньше или равной 3.\n",
        "\n",
        "    if length<=3:\n",
        "        return print('Пароль не может содержать менее 4 символов')\n",
        "\n",
        "\n",
        "    # Определяем символы, используемые для генерации пароля : вссе буквы, все цифры, специальные символы\n",
        "    letters = string.ascii_letters\n",
        "    digits = string.digits\n",
        "    special_chars = string.punctuation\n",
        "\n",
        "    # Объединяем все возможные символы\n",
        "    all_chars = letters + digits + special_chars\n",
        "\n",
        "    # Гарантируем, что пароль будет содержать хотя бы одну букву, цифру и специальный символ\n",
        "    password = [random.choice(letters),\n",
        "                random.choice(digits),\n",
        "                random.choice(special_chars)]\n",
        "\n",
        "    # Добавляем случайные символы до достижения нужной длины c учетом того, что ранее уже добавлены 3 символа из каждой категории\n",
        "    for i in range(length - 3):\n",
        "        password.append(random.choice(all_chars))\n",
        "\n",
        "    # Перемешиваем символы несколько раз (по количеству символов) для повышения случайности\n",
        "    for i in range(length):\n",
        "        random.shuffle(password)\n",
        "\n",
        "    # Собираем символы в строку\n",
        "    return ''.join(password)\n",
        "\n",
        "# Пример использования\n",
        "user_length = int(input(\"Введите длину пароля: \"))\n",
        "gen_password = generate_password(user_length)\n",
        "\n",
        "print(f\"Ваш пароль: {gen_password}, длина пароля: {len(gen_password)}\")"
      ]
    },
    {
      "cell_type": "markdown",
      "metadata": {
        "id": "PXTrsdLOEaes"
      },
      "source": [
        "### Задание 5 (6 баллов)\n",
        "#### Эмуляция работы электронной очереди\n",
        "Напишите класс для симуляции работы электронной очереди, например, в банке.\n",
        "\n",
        "Критерии оценки:\n",
        "\n",
        "Система должна поддерживать добавление клиентов с указанием их приоритета (например, VIP, обычный) — 1 балл.\n",
        "\n",
        "Выбор клиента для следующей обработки должен учитывать приоритет — 1 балл.\n",
        "\n",
        "Реализуйте отчет для администрации с информацией, сколько времени заняло обслуживание клиентов — 4 балла."
      ]
    },
    {
      "cell_type": "code",
      "execution_count": 14,
      "metadata": {
        "colab": {
          "base_uri": "https://localhost:8080/"
        },
        "id": "0kk3CWcEEaet",
        "outputId": "5f8dc734-b9d3-40e4-c628-26a6992d5665"
      },
      "outputs": [
        {
          "output_type": "stream",
          "name": "stdout",
          "text": [
            "Обслуживание 1 очереди....\n",
            "Обслужен клиент: Мария Смирнова (Приоритет: 0) - Время обслуживания: 6.00 секунд\n",
            "Обслужен клиент: Петр Петров (Приоритет: 1) - Время обслуживания: 4.00 секунд\n",
            "Обслужен клиент: Иван Иванов (Приоритет: 2) - Время обслуживания: 9.01 секунд\n",
            "Обслужен клиент: Мария М (Приоритет: 7) - Время обслуживания: 9.01 секунд\n",
            "Обслужен клиент: Мария Смирнова (Приоритет: 8) - Время обслуживания: 3.00 секунд\n",
            "Обслуживание 1 очереди закончено\n",
            "Обслуживание 2 очереди....\n",
            "Обслужен клиент: Мария Смирнова (Приоритет: 1) - Время обслуживания: 10.01 секунд\n",
            "Обслужен клиент: Петр Петров (Приоритет: 7) - Время обслуживания: 5.01 секунд\n",
            "Обслужен клиент: Иван Иванов (Приоритет: 8) - Время обслуживания: 3.00 секунд\n",
            "Обслуживание 2 очереди закончено\n",
            "Общее время обслуживания всех клиентов: 49.05 секунд\n"
          ]
        }
      ],
      "source": [
        "import time\n",
        "from queue import PriorityQueue\n",
        "import random\n",
        "\n",
        "class Client:\n",
        "    def __init__(self, name, priority):\n",
        "        self.name = name\n",
        "        self.priority = priority  # Приоритет клиента определяется числом: чем менбше число, тем болший приоритет\n",
        "        self.service_time = 0  # Время обслуживания\n",
        "\n",
        "    def __repr__(self):\n",
        "        return f\"Client(name={self.name}, priority={self.priority})\"\n",
        "\n",
        "class ElectronicQueue:\n",
        "    def __init__(self):\n",
        "        self.queue = PriorityQueue()  # Очередь с приоритетом\n",
        "        self.total_service_time = 0  # Инициализация общего времени обслуживания\n",
        "\n",
        "    def add_client(self, client):\n",
        "        self.queue.put((client.priority, client))  # Добавляем клиента в очередь с указанием приоритета\n",
        "\n",
        "    def serve_next(self):\n",
        "        if not self.queue.empty():\n",
        "            _, client = self.queue.get()\n",
        "\n",
        "            # Фиксируем время начала обслуживания\n",
        "            start_time = time.time()\n",
        "\n",
        "            # Имитация обслуживание клиента (в ределах от 3 до 10 сек.)\n",
        "\n",
        "            time.sleep(random.randint(3,10))\n",
        "            # Фиксация времени окончания обслуживания\n",
        "\n",
        "            end_time = time.time()\n",
        "\n",
        "            client.service_time = end_time - start_time\n",
        "\n",
        "            # Вычсиление общего количества времени обслужваиния\n",
        "            self.total_service_time += client.service_time\n",
        "\n",
        "\n",
        "            print(f\"Обслужен клиент: {client.name} (Приоритет: {client.priority}) - Время обслуживания: {client.service_time:.2f} секунд\")\n",
        "        else:\n",
        "            print(\"Очередь пуста!\")\n",
        "\n",
        "    def generate_report(self):\n",
        "        print(f\"Общее время обслуживания всех клиентов: {self.total_service_time:.2f} секунд\")\n",
        "\n",
        "# Пример использования:\n",
        "queue = ElectronicQueue()\n",
        "\n",
        "# Клиенты 1 очереди:\n",
        "print('Обслуживание 1 очереди....')\n",
        "queue.add_client(Client(\"Иван Иванов\", 2))  # Обычный клиент\n",
        "queue.add_client(Client(\"Петр Петров\", 1))  # VIP клиент\n",
        "queue.add_client(Client(\"Мария Смирнова\", 8))  # Обычный клиент\n",
        "queue.add_client(Client(\"Мария М\", 7))  # Обычный клиент\n",
        "queue.add_client(Client(\"Мария Смирнова\", 0))  # VIP клиент\n",
        "\n",
        "# Обслуживание клиентов 1 очереди:\n",
        "queue.serve_next()  # Обслужить клиента с наивысшим приоритетом\n",
        "queue.serve_next()  # Обслужить следующего клиента\n",
        "queue.serve_next()  # Обслужить последнего клиента\n",
        "queue.serve_next()  # Обслужть последнего клиента\n",
        "queue.serve_next()  # Обслужить последнего клиента\n",
        "print('Обслуживание 1 очереди закончено')\n",
        "\n",
        "# Клиенты 2 очереди\n",
        "print('Обслуживание 2 очереди....')\n",
        "queue.add_client(Client(\"Иван Иванов\", 8))  # Обычный клиент\n",
        "queue.add_client(Client(\"Петр Петров\", 7))  # VIP клиент\n",
        "queue.add_client(Client(\"Мария Смирнова\", 1))  # Обычный клиент\n",
        "\n",
        "# Обслуживание клиентов 2 очереди\n",
        "queue.serve_next()  # Обслужим клиента с наивысшим приоритетом\n",
        "queue.serve_next()  # Обслужим следующего клиента\n",
        "queue.serve_next()  # Обслужим последнего клиента\n",
        "print('Обслуживание 2 очереди закончено')\n",
        "\n",
        "# Генерируем отчет\n",
        "queue.generate_report()\n"
      ]
    },
    {
      "cell_type": "markdown",
      "metadata": {
        "id": "DcraNdnfEaeu"
      },
      "source": [
        "###  Задание 6 (2 балла)\n",
        "#### Проверка на «почти палиндром»\n",
        "Напишите программу, которая проверяет, является ли строка палиндромом или «почти палиндромом». «Почти палиндром» означает, что можно удалить одну букву, чтобы строка стала палиндромом.\n",
        "\n",
        "Критерии оценки:\n",
        "\n",
        "Функция выполняет все заявленные условия — 2 балла."
      ]
    },
    {
      "cell_type": "code",
      "execution_count": 15,
      "metadata": {
        "colab": {
          "base_uri": "https://localhost:8080/"
        },
        "id": "xV-3mOxlEaev",
        "outputId": "fd3879f5-c39c-4196-e7ec-e71ce168d273"
      },
      "outputs": [
        {
          "output_type": "stream",
          "name": "stdout",
          "text": [
            "Введите строку: розы азора\n",
            "Проверка строки: розы азора\n",
            "Проверка подстроки озы азора\n",
            "Проверка подстроки рзы азора\n",
            "Проверка подстроки роы азора\n",
            "Проверка подстроки роз азора\n",
            "Проверка подстроки розыазора\n",
            "Проверка подстроки розы зора\n",
            "Проверка подстроки розы аора\n",
            "Проверка подстроки розы азра\n",
            "Проверка подстроки розы азоа\n",
            "Проверка подстроки розы азор\n",
            "Строка розы азора это Не палиндром\n"
          ]
        }
      ],
      "source": [
        "def is_palindrome(s):\n",
        "    if s == s[::-1]:\n",
        "        return True\n",
        "\n",
        "def almost_palindrome(s):\n",
        "    n = len(s)\n",
        "    for i in range(n):\n",
        "        temp = s[:i] + s[i+1:]\n",
        "        print(f'Проверка подстроки {temp}')\n",
        "        if is_palindrome(temp):\n",
        "            return True\n",
        "    return False\n",
        "\n",
        "def check_string(s):\n",
        "    print(f'Проверка строки: {s}')\n",
        "    if is_palindrome(s):\n",
        "        return \"Палиндром\"\n",
        "    elif almost_palindrome(s):\n",
        "        return \"Почти палиндром\"\n",
        "    else:\n",
        "        return \"Не палиндром\"\n",
        "\n",
        "s = input(\"Введите строку: \")\n",
        "result = check_string(s)\n",
        "print(f'Строка {s} это {result}')\n",
        "\n",
        "\n",
        "\n"
      ]
    },
    {
      "cell_type": "markdown",
      "metadata": {
        "id": "J8Q_HXpBEaev"
      },
      "source": [
        "### Задание 7 (9 баллов)\n",
        "Задача Шредингера\n",
        "\n",
        "Разработайте программу, которая «стирает» фрагменты текста в файле. Например:\n",
        "\n",
        "    Пользователь указывает файл и процент текста, который нужно удалить (например, 30%).\n",
        "    Программа случайно выбирает слова или части абзацев и заменяет их на пробел или ..., сохраняя общий объем документа.\n",
        "\n"
      ]
    },
    {
      "cell_type": "markdown",
      "metadata": {
        "id": "a9OUMuxeEaev"
      },
      "source": [
        "В качестве тестового файла используем файл с произвольным текстом\n",
        "\n",
        "![image.png](attachment:image.png)\n",
        ""
      ]
    },
    {
      "cell_type": "code",
      "execution_count": 18,
      "metadata": {
        "colab": {
          "base_uri": "https://localhost:8080/"
        },
        "id": "xvLCCIcjEaew",
        "outputId": "d5e75892-ce33-4296-e5b7-7cb0ab6e33bb"
      },
      "outputs": [
        {
          "output_type": "stream",
          "name": "stdout",
          "text": [
            "список слов из файла: ['Мы', 'желаем', 'счастья', 'Вам', 'Счастья', 'в', 'этом', 'мире', 'большом', 'Как', 'солнце', 'по', 'утрам', 'Пусть', 'оно', 'заходит', 'в', 'дом', 'Мы', 'желаем', 'счастья', 'вам', 'И', 'оно', 'должно', 'быть', 'таким', 'Когда', 'ты', 'счастлив', 'сам', 'Счастьем', 'поделись', 'с', 'другим'], количество слов: 35\n",
            "Количество слов, подлежащих удалению:  10\n",
            "Индексы слов, подлежащие удалению:  [9, 32, 21, 29, 25, 2, 5, 19, 18, 16]\n",
            "Выбранное слово для удаления: Как 3\n",
            "Слово после стирания:     3\n",
            "Выбранное слово для удаления: поделись 8\n",
            "Слово после стирания:          8\n",
            "Выбранное слово для удаления: вам 3\n",
            "Слово после стирания:     3\n",
            "Выбранное слово для удаления: счастлив 8\n",
            "Слово после стирания:          8\n",
            "Выбранное слово для удаления: быть 4\n",
            "Слово после стирания:      4\n",
            "Выбранное слово для удаления: счастья 7\n",
            "Слово после стирания:         7\n",
            "Выбранное слово для удаления: в 1\n",
            "Слово после стирания:   1\n",
            "Выбранное слово для удаления: желаем 6\n",
            "Слово после стирания:        6\n",
            "Выбранное слово для удаления: Мы 2\n",
            "Слово после стирания:    2\n",
            "Выбранное слово для удаления: в 1\n",
            "Слово после стирания:   1\n",
            "Текст обработан. Сохранено в файл: /content/sample_data/task7_erased.txt\n"
          ]
        }
      ],
      "source": [
        "import random\n",
        "\n",
        "def erase_text(file_path, percent):\n",
        "\n",
        "    # Проверка на корректный диапазон процента\n",
        "    if not (0 <= percent <= 100):\n",
        "        raise \"Процент должен быть в диапазоне от 0 до 100.\"\n",
        "\n",
        "    # Чтение содержимого файла\n",
        "    with open(file_path, 'r', encoding='utf-8') as file:\n",
        "        file_content = file.read()\n",
        "\n",
        "    # Разделение текста на слова\n",
        "    words = file_content.split()\n",
        "    # Подсчитываем количество слов\n",
        "    words_counts = len(words)\n",
        "    print(f'список слов из файла: {words}, количество слов: {words_counts}')\n",
        "\n",
        "\n",
        "    #Количество слов, подлежащих удалению\n",
        "    word_to_erase = int((percentage / 100) * words_counts)\n",
        "    print(f'Количество слов, подлежащих удалению:  {word_to_erase}')\n",
        "\n",
        "\n",
        "    # Выбираем случайные индексы слов для замены из общего числа слов, в количестве слов, подлежащих удалению\n",
        "    index_to_erase = random.sample(range(words_counts), word_to_erase)\n",
        "    print(f'Индексы слов, подлежащие удалению:  {index_to_erase}')\n",
        "\n",
        "\n",
        "    # Находим слово, соответсвующее индексу слова, подлежащего удалению.\n",
        "    # В задании указано, что в результате удаления части текста, объем текста должен быть сохранен.\n",
        "    # Для сохранения объем после удаления каждое слово должно быть заменено на строку из пробелов, количество которых соответсвует количеству букв\n",
        "    # в удаляемом слове\n",
        "\n",
        "    for index in index_to_erase:\n",
        "            print(f'Выбранное слово для удаления: {words[index]} {len(words[index])}')\n",
        "            words[index] = ' '*len(words[index])\n",
        "            print(f'Слово после стирания: {words[index]} {len(words[index])}')\n",
        "\n",
        "\n",
        "    # Соединяем слова обратно в текст\n",
        "    modified_content = ' '.join(words)\n",
        "\n",
        "    # Сохраняем измененный текст в новый файл\n",
        "    output_file = file_path.replace('.txt', '_erased.txt')\n",
        "    with open(output_file, 'w', encoding='utf-8') as file:\n",
        "        file.write(modified_content)\n",
        "\n",
        "    print(f\"Текст обработан. Сохранено в файл: {output_file}\")\n",
        "\n",
        "\n",
        "# Пример использования\n",
        "file_path = '/content/sample_data/task7.txt'  # Укажите путь к вашему файлу\n",
        "percentage = 30  # Укажите процент текста для удаления\n",
        "erase_text(file_path, percentage)"
      ]
    },
    {
      "cell_type": "markdown",
      "source": [
        "![Screenshot_6.png](data:image/png;base64,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)"
      ],
      "metadata": {
        "id": "PphvlV6CIkcQ"
      }
    },
    {
      "cell_type": "code",
      "source": [],
      "metadata": {
        "id": "W0w4GgOYIpmw"
      },
      "execution_count": null,
      "outputs": []
    }
  ],
  "metadata": {
    "kernelspec": {
      "display_name": "Python 3",
      "language": "python",
      "name": "python3"
    },
    "language_info": {
      "codemirror_mode": {
        "name": "ipython",
        "version": 3
      },
      "file_extension": ".py",
      "mimetype": "text/x-python",
      "name": "python",
      "nbconvert_exporter": "python",
      "pygments_lexer": "ipython3",
      "version": "3.12.5"
    },
    "colab": {
      "provenance": []
    }
  },
  "nbformat": 4,
  "nbformat_minor": 0
}